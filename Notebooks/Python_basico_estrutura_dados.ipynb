{
  "nbformat": 4,
  "nbformat_minor": 0,
  "metadata": {
    "colab": {
      "name": "Python_basico_estrutura_dados.ipynb",
      "provenance": [],
      "collapsed_sections": []
    },
    "kernelspec": {
      "name": "python3",
      "display_name": "Python 3"
    },
    "language_info": {
      "name": "python"
    }
  },
  "cells": [
    {
      "cell_type": "code",
      "metadata": {
        "colab": {
          "base_uri": "https://localhost:8080/"
        },
        "id": "xI8jGcEZSml8",
        "outputId": "d1e4ca20-43f4-4500-b622-f9cfa9f49bee"
      },
      "source": [
        "print('Olá mundo!')"
      ],
      "execution_count": 2,
      "outputs": [
        {
          "output_type": "stream",
          "text": [
            "Olá mundo!\n"
          ],
          "name": "stdout"
        }
      ]
    },
    {
      "cell_type": "code",
      "metadata": {
        "colab": {
          "base_uri": "https://localhost:8080/"
        },
        "id": "SU07vO8-TA-L",
        "outputId": "58f04e25-2efb-4fed-c9df-40e8cf756091"
      },
      "source": [
        "print('Estou aprendendo Python.')"
      ],
      "execution_count": 3,
      "outputs": [
        {
          "output_type": "stream",
          "text": [
            "Estou aprendendo Python.\n"
          ],
          "name": "stdout"
        }
      ]
    },
    {
      "cell_type": "code",
      "metadata": {
        "colab": {
          "base_uri": "https://localhost:8080/",
          "height": 35
        },
        "id": "0rtFOxAyTHZm",
        "outputId": "86eb372a-4be7-4415-b5cb-47f788e248a8"
      },
      "source": [
        "'Estou aprendendo Python'"
      ],
      "execution_count": 4,
      "outputs": [
        {
          "output_type": "execute_result",
          "data": {
            "application/vnd.google.colaboratory.intrinsic+json": {
              "type": "string"
            },
            "text/plain": [
              "'Estou aprendendo Python'"
            ]
          },
          "metadata": {},
          "execution_count": 4
        }
      ]
    },
    {
      "cell_type": "code",
      "metadata": {
        "colab": {
          "base_uri": "https://localhost:8080/"
        },
        "id": "aCDUGvhMTN_Z",
        "outputId": "ef66d304-af12-440b-fd44-5d097cc2ac66"
      },
      "source": [
        "1 + 1"
      ],
      "execution_count": 5,
      "outputs": [
        {
          "output_type": "execute_result",
          "data": {
            "text/plain": [
              "2"
            ]
          },
          "metadata": {},
          "execution_count": 5
        }
      ]
    },
    {
      "cell_type": "code",
      "metadata": {
        "colab": {
          "base_uri": "https://localhost:8080/"
        },
        "id": "McZQSHS1TrH9",
        "outputId": "29e0eae6-846e-48a0-af6f-71e78a571cca"
      },
      "source": [
        "10 - 1"
      ],
      "execution_count": 6,
      "outputs": [
        {
          "output_type": "execute_result",
          "data": {
            "text/plain": [
              "9"
            ]
          },
          "metadata": {},
          "execution_count": 6
        }
      ]
    },
    {
      "cell_type": "code",
      "metadata": {
        "colab": {
          "base_uri": "https://localhost:8080/"
        },
        "id": "TtVc2ZOMTsie",
        "outputId": "b584d4f0-4e1a-4cb4-8560-cbce7cc83d6b"
      },
      "source": [
        "12 / 2"
      ],
      "execution_count": 7,
      "outputs": [
        {
          "output_type": "execute_result",
          "data": {
            "text/plain": [
              "6.0"
            ]
          },
          "metadata": {},
          "execution_count": 7
        }
      ]
    },
    {
      "cell_type": "code",
      "metadata": {
        "colab": {
          "base_uri": "https://localhost:8080/"
        },
        "id": "nNfpWZl1Tuv6",
        "outputId": "8f8f783c-d87e-497a-c6ce-0e099416f01a"
      },
      "source": [
        "2 * 6"
      ],
      "execution_count": 8,
      "outputs": [
        {
          "output_type": "execute_result",
          "data": {
            "text/plain": [
              "12"
            ]
          },
          "metadata": {},
          "execution_count": 8
        }
      ]
    },
    {
      "cell_type": "code",
      "metadata": {
        "id": "2Pa_w57vTv9v"
      },
      "source": [
        "#O hastag é usado para comentários"
      ],
      "execution_count": 9,
      "outputs": []
    },
    {
      "cell_type": "code",
      "metadata": {
        "id": "4cezd1yIT1Ge"
      },
      "source": [
        "a = 10 - 2"
      ],
      "execution_count": 10,
      "outputs": []
    },
    {
      "cell_type": "code",
      "metadata": {
        "id": "VZxR1vO3UJJQ"
      },
      "source": [
        "b = 6"
      ],
      "execution_count": 11,
      "outputs": []
    },
    {
      "cell_type": "code",
      "metadata": {
        "colab": {
          "base_uri": "https://localhost:8080/"
        },
        "id": "Ux5wwLqaUKk_",
        "outputId": "9a89fbc3-9a57-4d11-ae28-6fc38772bb86"
      },
      "source": [
        "print(a - b)"
      ],
      "execution_count": 12,
      "outputs": [
        {
          "output_type": "stream",
          "text": [
            "2\n"
          ],
          "name": "stdout"
        }
      ]
    },
    {
      "cell_type": "code",
      "metadata": {
        "id": "1cffWbQpUNLR"
      },
      "source": [
        "c = 'rod'\n",
        "d = 'rigo'"
      ],
      "execution_count": 14,
      "outputs": []
    },
    {
      "cell_type": "code",
      "metadata": {
        "colab": {
          "base_uri": "https://localhost:8080/"
        },
        "id": "XZ4aVBvWURpB",
        "outputId": "a7de149e-b94f-41c1-c246-9929251b65b3"
      },
      "source": [
        "print (c + d)"
      ],
      "execution_count": 15,
      "outputs": [
        {
          "output_type": "stream",
          "text": [
            "rodrigo\n"
          ],
          "name": "stdout"
        }
      ]
    },
    {
      "cell_type": "code",
      "metadata": {
        "id": "CC5gl5hUUaEr"
      },
      "source": [
        "#Criando uma variável do tipo string\n",
        "frase = 'Rodrigo Sundfeld Batista de Moraes'"
      ],
      "execution_count": 27,
      "outputs": []
    },
    {
      "cell_type": "code",
      "metadata": {
        "colab": {
          "base_uri": "https://localhost:8080/",
          "height": 35
        },
        "id": "InxEv6ihUhxZ",
        "outputId": "fd96478b-9123-4847-fd40-1b0100caad40"
      },
      "source": [
        "#Indexação começa no zero\n",
        "frase[0]"
      ],
      "execution_count": 20,
      "outputs": [
        {
          "output_type": "execute_result",
          "data": {
            "application/vnd.google.colaboratory.intrinsic+json": {
              "type": "string"
            },
            "text/plain": [
              "'R'"
            ]
          },
          "metadata": {},
          "execution_count": 20
        }
      ]
    },
    {
      "cell_type": "code",
      "metadata": {
        "colab": {
          "base_uri": "https://localhost:8080/",
          "height": 35
        },
        "id": "2A-K1woQUvn6",
        "outputId": "95f96406-2fb1-4df2-949b-ac4f1b58171f"
      },
      "source": [
        "frase[0:10]"
      ],
      "execution_count": 21,
      "outputs": [
        {
          "output_type": "execute_result",
          "data": {
            "application/vnd.google.colaboratory.intrinsic+json": {
              "type": "string"
            },
            "text/plain": [
              "'Rodrigo Su'"
            ]
          },
          "metadata": {},
          "execution_count": 21
        }
      ]
    },
    {
      "cell_type": "code",
      "metadata": {
        "colab": {
          "base_uri": "https://localhost:8080/",
          "height": 35
        },
        "id": "eELx3fQRU5qB",
        "outputId": "6fed6137-5436-4577-eb26-5816c9978f97"
      },
      "source": [
        "frase [10:]"
      ],
      "execution_count": 22,
      "outputs": [
        {
          "output_type": "execute_result",
          "data": {
            "application/vnd.google.colaboratory.intrinsic+json": {
              "type": "string"
            },
            "text/plain": [
              "'ndfeld Batista de Moras'"
            ]
          },
          "metadata": {},
          "execution_count": 22
        }
      ]
    },
    {
      "cell_type": "code",
      "metadata": {
        "colab": {
          "base_uri": "https://localhost:8080/",
          "height": 35
        },
        "id": "5n6HFyWhVGeH",
        "outputId": "02dda4d6-aed5-4e83-fdb5-e2a77ff3ace6"
      },
      "source": [
        "frase[:17]"
      ],
      "execution_count": 23,
      "outputs": [
        {
          "output_type": "execute_result",
          "data": {
            "application/vnd.google.colaboratory.intrinsic+json": {
              "type": "string"
            },
            "text/plain": [
              "'Rodrigo Sundfeld '"
            ]
          },
          "metadata": {},
          "execution_count": 23
        }
      ]
    },
    {
      "cell_type": "code",
      "metadata": {
        "colab": {
          "base_uri": "https://localhost:8080/"
        },
        "id": "MH2QUkohVNe7",
        "outputId": "8f7c05bd-dec9-422b-fb3f-dd1fb821d897"
      },
      "source": [
        "frase.count('R')"
      ],
      "execution_count": 25,
      "outputs": [
        {
          "output_type": "execute_result",
          "data": {
            "text/plain": [
              "1"
            ]
          },
          "metadata": {},
          "execution_count": 25
        }
      ]
    },
    {
      "cell_type": "code",
      "metadata": {
        "colab": {
          "base_uri": "https://localhost:8080/",
          "height": 35
        },
        "id": "9G_fzTO4VXET",
        "outputId": "4007efb6-5dae-417f-9ce5-58def537865d"
      },
      "source": [
        "frase.lower()"
      ],
      "execution_count": 28,
      "outputs": [
        {
          "output_type": "execute_result",
          "data": {
            "application/vnd.google.colaboratory.intrinsic+json": {
              "type": "string"
            },
            "text/plain": [
              "'rodrigo sundfeld batista de moraes'"
            ]
          },
          "metadata": {},
          "execution_count": 28
        }
      ]
    },
    {
      "cell_type": "code",
      "metadata": {
        "colab": {
          "base_uri": "https://localhost:8080/",
          "height": 35
        },
        "id": "W20JPNaQVj_4",
        "outputId": "eef8cc20-6b2f-436e-952d-e7a1078c992d"
      },
      "source": [
        "frase.upper()"
      ],
      "execution_count": 32,
      "outputs": [
        {
          "output_type": "execute_result",
          "data": {
            "application/vnd.google.colaboratory.intrinsic+json": {
              "type": "string"
            },
            "text/plain": [
              "'RODRIGO SUNDFELD BATISTA DE MORAES'"
            ]
          },
          "metadata": {},
          "execution_count": 32
        }
      ]
    },
    {
      "cell_type": "code",
      "metadata": {
        "colab": {
          "base_uri": "https://localhost:8080/"
        },
        "id": "EoS3sjUXVsG7",
        "outputId": "bcbf617b-1e89-413a-b0d6-f53f41e24a2f"
      },
      "source": [
        "frase.count('O')"
      ],
      "execution_count": 33,
      "outputs": [
        {
          "output_type": "execute_result",
          "data": {
            "text/plain": [
              "0"
            ]
          },
          "metadata": {},
          "execution_count": 33
        }
      ]
    },
    {
      "cell_type": "code",
      "metadata": {
        "colab": {
          "base_uri": "https://localhost:8080/",
          "height": 35
        },
        "id": "_mdvgqQPVxFO",
        "outputId": "7c1032fc-b51c-4cf2-ff24-ec2cf0ce2ffb"
      },
      "source": [
        "frase.replace('Rodrigo', 'Teste')"
      ],
      "execution_count": 35,
      "outputs": [
        {
          "output_type": "execute_result",
          "data": {
            "application/vnd.google.colaboratory.intrinsic+json": {
              "type": "string"
            },
            "text/plain": [
              "'Teste Sundfeld Batista de Moraes'"
            ]
          },
          "metadata": {},
          "execution_count": 35
        }
      ]
    },
    {
      "cell_type": "code",
      "metadata": {
        "id": "kBmCJGd3WB6W"
      },
      "source": [
        "#Salvar um novo valor de variável\n",
        "frase = frase.upper()"
      ],
      "execution_count": 37,
      "outputs": []
    },
    {
      "cell_type": "code",
      "metadata": {
        "colab": {
          "base_uri": "https://localhost:8080/"
        },
        "id": "gVNH6dBNWURD",
        "outputId": "cf8e8448-cce9-4749-e615-85b4efd88392"
      },
      "source": [
        "frase.count('O')"
      ],
      "execution_count": 39,
      "outputs": [
        {
          "output_type": "execute_result",
          "data": {
            "text/plain": [
              "3"
            ]
          },
          "metadata": {},
          "execution_count": 39
        }
      ]
    },
    {
      "cell_type": "code",
      "metadata": {
        "colab": {
          "base_uri": "https://localhost:8080/"
        },
        "id": "3LP-9hEnWcWN",
        "outputId": "aae777f5-97a4-45ce-b19c-63273a4da73f"
      },
      "source": [
        "#Criando uma lista chamada cores\n",
        "cores = [1,2,3]\n",
        "cores"
      ],
      "execution_count": 40,
      "outputs": [
        {
          "output_type": "execute_result",
          "data": {
            "text/plain": [
              "[1, 2, 3]"
            ]
          },
          "metadata": {},
          "execution_count": 40
        }
      ]
    },
    {
      "cell_type": "code",
      "metadata": {
        "colab": {
          "base_uri": "https://localhost:8080/"
        },
        "id": "tzrfOvzCWzvQ",
        "outputId": "3c66f533-b3ad-4d4f-88e2-945e9fa38019"
      },
      "source": [
        "cores = ['azul', 'branco', 'verde']\n",
        "cores"
      ],
      "execution_count": 42,
      "outputs": [
        {
          "output_type": "execute_result",
          "data": {
            "text/plain": [
              "['azul', 'branco', 'verde']"
            ]
          },
          "metadata": {},
          "execution_count": 42
        }
      ]
    },
    {
      "cell_type": "code",
      "metadata": {
        "colab": {
          "base_uri": "https://localhost:8080/",
          "height": 35
        },
        "id": "hdsMVA64W8G1",
        "outputId": "a77f25d1-666f-478e-8af6-9b37e1ac859b"
      },
      "source": [
        "cores[1]"
      ],
      "execution_count": 44,
      "outputs": [
        {
          "output_type": "execute_result",
          "data": {
            "application/vnd.google.colaboratory.intrinsic+json": {
              "type": "string"
            },
            "text/plain": [
              "'branco'"
            ]
          },
          "metadata": {},
          "execution_count": 44
        }
      ]
    },
    {
      "cell_type": "code",
      "metadata": {
        "id": "-lg5obp8XCGr"
      },
      "source": [
        "cores[0] = 'violeta'"
      ],
      "execution_count": 45,
      "outputs": []
    },
    {
      "cell_type": "code",
      "metadata": {
        "colab": {
          "base_uri": "https://localhost:8080/"
        },
        "id": "PS5W59mwXPAT",
        "outputId": "05d90fe9-4312-4fb0-9082-623b9d0d7b15"
      },
      "source": [
        "cores"
      ],
      "execution_count": 46,
      "outputs": [
        {
          "output_type": "execute_result",
          "data": {
            "text/plain": [
              "['violeta', 'branco', 'verde']"
            ]
          },
          "metadata": {},
          "execution_count": 46
        }
      ]
    },
    {
      "cell_type": "code",
      "metadata": {
        "id": "vTrkq0qLXRIK"
      },
      "source": [
        "cores.remove('branco')"
      ],
      "execution_count": 48,
      "outputs": []
    },
    {
      "cell_type": "code",
      "metadata": {
        "colab": {
          "base_uri": "https://localhost:8080/"
        },
        "id": "l0tGIhSMXZKH",
        "outputId": "61b7bca8-1c4a-4b6e-ee73-1541890abfe8"
      },
      "source": [
        "cores"
      ],
      "execution_count": 49,
      "outputs": [
        {
          "output_type": "execute_result",
          "data": {
            "text/plain": [
              "['violeta', 'verde']"
            ]
          },
          "metadata": {},
          "execution_count": 49
        }
      ]
    },
    {
      "cell_type": "code",
      "metadata": {
        "colab": {
          "base_uri": "https://localhost:8080/"
        },
        "id": "c_p3olHnXfB4",
        "outputId": "4aba5b88-2e8a-4e38-89e5-412ca9f6d42b"
      },
      "source": [
        "len(cores)"
      ],
      "execution_count": 50,
      "outputs": [
        {
          "output_type": "execute_result",
          "data": {
            "text/plain": [
              "2"
            ]
          },
          "metadata": {},
          "execution_count": 50
        }
      ]
    },
    {
      "cell_type": "code",
      "metadata": {
        "colab": {
          "base_uri": "https://localhost:8080/"
        },
        "id": "4HjOQh69XiWo",
        "outputId": "404ecbf9-9c7d-47e3-e5a4-61934fd7bc06"
      },
      "source": [
        "'roxo' in cores"
      ],
      "execution_count": 51,
      "outputs": [
        {
          "output_type": "execute_result",
          "data": {
            "text/plain": [
              "False"
            ]
          },
          "metadata": {},
          "execution_count": 51
        }
      ]
    },
    {
      "cell_type": "code",
      "metadata": {
        "colab": {
          "base_uri": "https://localhost:8080/"
        },
        "id": "XFa2Vjw6Xvv7",
        "outputId": "455cabfb-5e95-4288-f3a7-f0fc1c56da78"
      },
      "source": [
        "'violeta' in cores"
      ],
      "execution_count": 52,
      "outputs": [
        {
          "output_type": "execute_result",
          "data": {
            "text/plain": [
              "True"
            ]
          },
          "metadata": {},
          "execution_count": 52
        }
      ]
    },
    {
      "cell_type": "code",
      "metadata": {
        "id": "BriiSAmCXyHw"
      },
      "source": [
        "lista = [100, 200, 30, 50, 90, -10]"
      ],
      "execution_count": 57,
      "outputs": []
    },
    {
      "cell_type": "code",
      "metadata": {
        "colab": {
          "base_uri": "https://localhost:8080/"
        },
        "id": "s-11iYRyX3Rg",
        "outputId": "2575478d-cb35-422f-f952-427f06c03102"
      },
      "source": [
        "max(lista)"
      ],
      "execution_count": 54,
      "outputs": [
        {
          "output_type": "execute_result",
          "data": {
            "text/plain": [
              "200"
            ]
          },
          "metadata": {},
          "execution_count": 54
        }
      ]
    },
    {
      "cell_type": "code",
      "metadata": {
        "colab": {
          "base_uri": "https://localhost:8080/"
        },
        "id": "g9fOaN6IX8Sp",
        "outputId": "4a270f21-1edd-4029-e0f5-4c4fb47a592e"
      },
      "source": [
        "min(lista)"
      ],
      "execution_count": 58,
      "outputs": [
        {
          "output_type": "execute_result",
          "data": {
            "text/plain": [
              "-10"
            ]
          },
          "metadata": {},
          "execution_count": 58
        }
      ]
    },
    {
      "cell_type": "code",
      "metadata": {
        "id": "kCcpp_Q1X-BK"
      },
      "source": [
        "cores.append('roxo')"
      ],
      "execution_count": 59,
      "outputs": []
    },
    {
      "cell_type": "code",
      "metadata": {
        "id": "8crNSkfuYOBp"
      },
      "source": [
        "cores.extend(['laranja', 'cinza'])"
      ],
      "execution_count": 60,
      "outputs": []
    },
    {
      "cell_type": "code",
      "metadata": {
        "colab": {
          "base_uri": "https://localhost:8080/"
        },
        "id": "obilaEdsYWKu",
        "outputId": "7d15f202-0a6a-4ed6-e235-91b2c2ebb68b"
      },
      "source": [
        "cores.count('roxo')"
      ],
      "execution_count": 61,
      "outputs": [
        {
          "output_type": "execute_result",
          "data": {
            "text/plain": [
              "1"
            ]
          },
          "metadata": {},
          "execution_count": 61
        }
      ]
    },
    {
      "cell_type": "code",
      "metadata": {
        "id": "ore98itzYp-5"
      },
      "source": [
        "lista.sort()"
      ],
      "execution_count": 62,
      "outputs": []
    },
    {
      "cell_type": "code",
      "metadata": {
        "colab": {
          "base_uri": "https://localhost:8080/"
        },
        "id": "VGFPY-2uYtt4",
        "outputId": "6e04ae47-5729-4e8a-ea0f-6d99d83ba176"
      },
      "source": [
        "lista"
      ],
      "execution_count": 64,
      "outputs": [
        {
          "output_type": "execute_result",
          "data": {
            "text/plain": [
              "[-10, 30, 50, 90, 100, 200]"
            ]
          },
          "metadata": {},
          "execution_count": 64
        }
      ]
    },
    {
      "cell_type": "code",
      "metadata": {
        "id": "Ps5kloLKYvI4"
      },
      "source": [
        "#Tuplas"
      ],
      "execution_count": 65,
      "outputs": []
    },
    {
      "cell_type": "code",
      "metadata": {
        "id": "ZqoeE8ikZHQk"
      },
      "source": [
        "tp = ('Banana', 'Maça', 10, 20)"
      ],
      "execution_count": 66,
      "outputs": []
    },
    {
      "cell_type": "code",
      "metadata": {
        "colab": {
          "base_uri": "https://localhost:8080/",
          "height": 35
        },
        "id": "xauR5JSNZMi9",
        "outputId": "e38933f0-6980-44bd-e8dc-00d2c4f90de0"
      },
      "source": [
        "tp[0]"
      ],
      "execution_count": 67,
      "outputs": [
        {
          "output_type": "execute_result",
          "data": {
            "application/vnd.google.colaboratory.intrinsic+json": {
              "type": "string"
            },
            "text/plain": [
              "'Banana'"
            ]
          },
          "metadata": {},
          "execution_count": 67
        }
      ]
    },
    {
      "cell_type": "code",
      "metadata": {
        "colab": {
          "base_uri": "https://localhost:8080/",
          "height": 180
        },
        "id": "Ywb8mjmwZQ9s",
        "outputId": "c6e032df-e32b-4f2c-c4e4-8b36910d1b68"
      },
      "source": [
        "#As tuplas diferetemente das listas são imutáveis\n",
        "tp[0] = 'Laranja'"
      ],
      "execution_count": 69,
      "outputs": [
        {
          "output_type": "error",
          "ename": "TypeError",
          "evalue": "ignored",
          "traceback": [
            "\u001b[0;31m---------------------------------------------------------------------------\u001b[0m",
            "\u001b[0;31mTypeError\u001b[0m                                 Traceback (most recent call last)",
            "\u001b[0;32m<ipython-input-69-303c5835880a>\u001b[0m in \u001b[0;36m<module>\u001b[0;34m()\u001b[0m\n\u001b[1;32m      1\u001b[0m \u001b[0;31m#As tuplas diferetemente das listas são imutáveis\u001b[0m\u001b[0;34m\u001b[0m\u001b[0;34m\u001b[0m\u001b[0;34m\u001b[0m\u001b[0m\n\u001b[0;32m----> 2\u001b[0;31m \u001b[0mtp\u001b[0m\u001b[0;34m[\u001b[0m\u001b[0;36m0\u001b[0m\u001b[0;34m]\u001b[0m \u001b[0;34m=\u001b[0m \u001b[0;34m'Laranja'\u001b[0m\u001b[0;34m\u001b[0m\u001b[0;34m\u001b[0m\u001b[0m\n\u001b[0m",
            "\u001b[0;31mTypeError\u001b[0m: 'tuple' object does not support item assignment"
          ]
        }
      ]
    },
    {
      "cell_type": "code",
      "metadata": {
        "colab": {
          "base_uri": "https://localhost:8080/"
        },
        "id": "oqbqoVlhZXea",
        "outputId": "bf749cd4-9895-4193-faf6-c336dad2a280"
      },
      "source": [
        "tp.count('Maça')"
      ],
      "execution_count": 70,
      "outputs": [
        {
          "output_type": "execute_result",
          "data": {
            "text/plain": [
              "1"
            ]
          },
          "metadata": {},
          "execution_count": 70
        }
      ]
    },
    {
      "cell_type": "code",
      "metadata": {
        "colab": {
          "base_uri": "https://localhost:8080/"
        },
        "id": "2tcMyS3IZpIN",
        "outputId": "b605b512-d34b-455e-e925-05bc9431d994"
      },
      "source": [
        "tp[0:2]"
      ],
      "execution_count": 71,
      "outputs": [
        {
          "output_type": "execute_result",
          "data": {
            "text/plain": [
              "('Banana', 'Maça')"
            ]
          },
          "metadata": {},
          "execution_count": 71
        }
      ]
    },
    {
      "cell_type": "code",
      "metadata": {
        "id": "-Jg1kTp9ZsHi"
      },
      "source": [
        "#Dicionarios utilizamos {} para sua criação\n",
        "#Trabalham com conceito chave e valor\n",
        "dc = {'Maça':1, 'Pera':2, 'Mexerica':10, 'Manga':20}"
      ],
      "execution_count": 73,
      "outputs": []
    },
    {
      "cell_type": "code",
      "metadata": {
        "colab": {
          "base_uri": "https://localhost:8080/"
        },
        "id": "kN0gDWBkZzes",
        "outputId": "8f2e023e-111b-425d-de29-3e2a0982e3e3"
      },
      "source": [
        "dc"
      ],
      "execution_count": 74,
      "outputs": [
        {
          "output_type": "execute_result",
          "data": {
            "text/plain": [
              "{'Manga': 20, 'Maça': 1, 'Mexerica': 10, 'Pera': 2}"
            ]
          },
          "metadata": {},
          "execution_count": 74
        }
      ]
    },
    {
      "cell_type": "code",
      "metadata": {
        "colab": {
          "base_uri": "https://localhost:8080/"
        },
        "id": "_-aUy0jFaIID",
        "outputId": "5172e3dd-49d4-4c6d-c325-6460bc0b669d"
      },
      "source": [
        "dc['Maça']"
      ],
      "execution_count": 75,
      "outputs": [
        {
          "output_type": "execute_result",
          "data": {
            "text/plain": [
              "1"
            ]
          },
          "metadata": {},
          "execution_count": 75
        }
      ]
    },
    {
      "cell_type": "code",
      "metadata": {
        "id": "BOhBlhlMaL9W"
      },
      "source": [
        "#é possivel atualizar os valores\n",
        "dc['Maça'] = 1000"
      ],
      "execution_count": 76,
      "outputs": []
    },
    {
      "cell_type": "code",
      "metadata": {
        "colab": {
          "base_uri": "https://localhost:8080/"
        },
        "id": "zkyW08KtaS6d",
        "outputId": "bc7799df-9e62-4c15-e0a3-76a3d3b2f5c1"
      },
      "source": [
        "dc"
      ],
      "execution_count": 77,
      "outputs": [
        {
          "output_type": "execute_result",
          "data": {
            "text/plain": [
              "{'Manga': 20, 'Maça': 1000, 'Mexerica': 10, 'Pera': 2}"
            ]
          },
          "metadata": {},
          "execution_count": 77
        }
      ]
    },
    {
      "cell_type": "code",
      "metadata": {
        "colab": {
          "base_uri": "https://localhost:8080/"
        },
        "id": "ehd1Q9vlabPy",
        "outputId": "c631dc36-2610-4703-bd38-1c4912285ba3"
      },
      "source": [
        "dc.keys()"
      ],
      "execution_count": 78,
      "outputs": [
        {
          "output_type": "execute_result",
          "data": {
            "text/plain": [
              "dict_keys(['Maça', 'Pera', 'Mexerica', 'Manga'])"
            ]
          },
          "metadata": {},
          "execution_count": 78
        }
      ]
    },
    {
      "cell_type": "code",
      "metadata": {
        "colab": {
          "base_uri": "https://localhost:8080/"
        },
        "id": "ez54uPH5ae-t",
        "outputId": "572ee87b-c803-4c5b-da30-0dfa33ebf6a8"
      },
      "source": [
        "dc.values()"
      ],
      "execution_count": 79,
      "outputs": [
        {
          "output_type": "execute_result",
          "data": {
            "text/plain": [
              "dict_values([1000, 2, 10, 20])"
            ]
          },
          "metadata": {},
          "execution_count": 79
        }
      ]
    },
    {
      "cell_type": "code",
      "metadata": {
        "colab": {
          "base_uri": "https://localhost:8080/"
        },
        "id": "NIwdZk38ahaL",
        "outputId": "37383333-edf5-4f88-c408-317f4baa60e1"
      },
      "source": [
        "dc.setdefault('Graviola', 800)"
      ],
      "execution_count": 80,
      "outputs": [
        {
          "output_type": "execute_result",
          "data": {
            "text/plain": [
              "800"
            ]
          },
          "metadata": {},
          "execution_count": 80
        }
      ]
    },
    {
      "cell_type": "code",
      "metadata": {
        "colab": {
          "base_uri": "https://localhost:8080/"
        },
        "id": "PDOkb2V9aom0",
        "outputId": "4164629b-57ea-4c31-bb03-dfc076936128"
      },
      "source": [
        "dc"
      ],
      "execution_count": 81,
      "outputs": [
        {
          "output_type": "execute_result",
          "data": {
            "text/plain": [
              "{'Graviola': 800, 'Manga': 20, 'Maça': 1000, 'Mexerica': 10, 'Pera': 2}"
            ]
          },
          "metadata": {},
          "execution_count": 81
        }
      ]
    },
    {
      "cell_type": "code",
      "metadata": {
        "id": "6zOC6DM2asMY"
      },
      "source": [
        ""
      ],
      "execution_count": null,
      "outputs": []
    }
  ]
}